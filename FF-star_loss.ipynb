{
  "cells": [
    {
      "cell_type": "markdown",
      "source": [
        "# Training an MLP of architecture $A[N_0,\\cdots, N_L]$ with the $F$ and $F_*$ propagations"
      ],
      "metadata": {
        "id": "HG1HnpquC3w-"
      },
      "id": "HG1HnpquC3w-"
    },
    {
      "cell_type": "code",
      "execution_count": 8,
      "id": "e498f580",
      "metadata": {
        "id": "e498f580"
      },
      "outputs": [],
      "source": [
        "import numpy as np\n",
        "import matplotlib.pyplot as plt\n",
        "\n",
        "# The activation function and it's derivative:\n",
        "def sigmoid(x):\n",
        "    return 1/(1+np.exp(-x))\n",
        "def d_sigmoid(x):\n",
        "    return sigmoid(x)*(1-sigmoid(x))\n",
        "# The loss function and it's derivative:\n",
        "def J(x):\n",
        "    return 1/2*x**2\n",
        "def d_J(x):\n",
        "    return x\n",
        "#The initialisation of the weight W:\n",
        "def init(dim):# dim denotes the architecture A[N0,N1,..., NL] of the DNN of length L:\n",
        "    L=len(dim)\n",
        "    W = {}\n",
        "    for h in range(1, L):\n",
        "        W[f'W{h}'] = np.random.randn(dim[h], dim[h-1])\n",
        "    return W\n",
        "# The F-propagation of the data X through the weight W:\n",
        "def F_prop(X, W):\n",
        "    L=len(W)\n",
        "    Y_h = {}\n",
        "    X_h = {'X0':X.T}\n",
        "    for h in range(1, L+1):\n",
        "        Y_h[f'Y{h}'] = np.dot(W[f'W{h}'], X_h[f'X{h-1}'])\n",
        "        X_h[f'X{h}'] = sigmoid(Y_h[f'Y{h}'])\n",
        "    return Y_h, X_h\n",
        "# The F-adjoint propagation of the data (X,y) through the weight W:\n",
        "def F_star_prop(X,y, W, dJ):\n",
        "    L=len(W)\n",
        "    Y_h , X_h = F_prop(X, W)\n",
        "    X_star={f'X*{L}':dJ(X_h[f'X{L}']-y)}\n",
        "    Y_star={}\n",
        "    for h in reversed(range(1, L+1)):\n",
        "        Y_star[f'Y*{h}'] =X_star[f'X*{h}'] *(d_sigmoid(Y_h[f'Y{h}']))\n",
        "        X_star[f'X*{h-1}']=W[f'W{h}'].T.dot(Y_star[f'Y*{h}'])\n",
        "    return X_star, Y_star\n",
        "# The gradient update, with respect to he weight W, of the data (X,y):\n",
        "def update(X,y,W, dJ, learning_rate = 0.4):\n",
        "    L=len(W)\n",
        "    for h in range(1, L+1):\n",
        "        Y_h , X_h = F_prop(X, W)\n",
        "        X_star, Y_star=F_star_prop(X,y, W, dJ)\n",
        "        W[f'W{h}'] += - learning_rate *np.dot(Y_star[f'Y*{h}'],X_h[f'X{h-1}'].T)\n",
        "    return W\n"
      ]
    },
    {
      "cell_type": "code",
      "execution_count": 11,
      "id": "bee627d4",
      "metadata": {
        "id": "bee627d4"
      },
      "outputs": [],
      "source": [
        "def neural_network(X, y, dim, lossftion, learning_rate, iter, print_cost=True):\n",
        "    W = init(dim)\n",
        "    L=len(W)\n",
        "    train_loss = [ ]\n",
        "    train_acc = [ ]\n",
        "    costs = []\n",
        "    for i in range(iter):\n",
        "        _ , X_h = F_prop(X, W)\n",
        "        cost = lossftion(y -X_h[f'X{L}'])\n",
        "        W = update(X,y,W,d_J, learning_rate )\n",
        "        if print_cost and i % 10 == 0:\n",
        "            print(\"Loss after iteration %i: %f\" % (i, cost))\n",
        "            if i % 5 == 0:\n",
        "                costs.append(cost)\n",
        "\n",
        "    plt.plot(np.squeeze(costs))\n",
        "    plt.ylabel('Loss')\n",
        "    plt.xlabel('iterations (per 100s)')\n",
        "    plt.title(\"Learning rate = \" + str(learning_rate))\n",
        "    plt.show()\n",
        "    return print('W=', W)"
      ]
    },
    {
      "cell_type": "code",
      "execution_count": 12,
      "id": "94372d01",
      "metadata": {
        "id": "94372d01",
        "outputId": "da2e60cf-930e-433b-c5ab-55d3c2857773",
        "colab": {
          "base_uri": "https://localhost:8080/",
          "height": 753
        }
      },
      "outputs": [
        {
          "output_type": "stream",
          "name": "stderr",
          "text": [
            "<ipython-input-11-0c3209209ac0>:12: DeprecationWarning: Conversion of an array with ndim > 0 to a scalar is deprecated, and will error in future. Ensure you extract a single element from your array before performing this operation. (Deprecated NumPy 1.25.)\n",
            "  print(\"Loss after iteration %i: %f\" % (i, cost))\n"
          ]
        },
        {
          "output_type": "stream",
          "name": "stdout",
          "text": [
            "Loss after iteration 0: 0.014199\n",
            "Loss after iteration 10: 0.011047\n",
            "Loss after iteration 20: 0.008951\n",
            "Loss after iteration 30: 0.007472\n",
            "Loss after iteration 40: 0.006382\n",
            "Loss after iteration 50: 0.005550\n",
            "Loss after iteration 60: 0.004896\n",
            "Loss after iteration 70: 0.004371\n",
            "Loss after iteration 80: 0.003941\n",
            "Loss after iteration 90: 0.003583\n"
          ]
        },
        {
          "output_type": "display_data",
          "data": {
            "text/plain": [
              "<Figure size 640x480 with 1 Axes>"
            ],
            "image/png": "[encoded data removed]"
          },
          "metadata": {}
        },
        {
          "output_type": "stream",
          "name": "stdout",
          "text": [
            "W= {'W1': array([[ 0.77575636,  1.06504888],\n",
            "       [-0.8220969 ,  0.94039487],\n",
            "       [ 1.5038359 , -0.22112618]]), 'W2': array([[ 2.45654009,  0.95225708, -0.18631382]])}\n"
          ]
        }
      ],
      "source": [
        "dim = [2,3,1]\n",
        "X=np.array([[0,1]])\n",
        "y=np.array([[1]])\n",
        "neural_network(X, y,  dim, J, 0.5,  100, print_cost=True)"
      ]
    },
    {
      "cell_type": "code",
      "execution_count": null,
      "id": "9132ddc2",
      "metadata": {
        "id": "9132ddc2"
      },
      "outputs": [],
      "source": []
    },
    {
      "cell_type": "code",
      "execution_count": null,
      "id": "bc4c57a5",
      "metadata": {
        "id": "bc4c57a5"
      },
      "outputs": [],
      "source": []
    },
    {
      "cell_type": "code",
      "execution_count": null,
      "id": "ead2f385",
      "metadata": {
        "id": "ead2f385"
      },
      "outputs": [],
      "source": []
    },
    {
      "cell_type": "code",
      "execution_count": null,
      "id": "b867a1f9",
      "metadata": {
        "id": "b867a1f9"
      },
      "outputs": [],
      "source": []
    },
    {
      "cell_type": "code",
      "execution_count": null,
      "id": "6bdac6dd",
      "metadata": {
        "id": "6bdac6dd"
      },
      "outputs": [],
      "source": []
    },
    {
      "cell_type": "code",
      "execution_count": null,
      "id": "18487cd6",
      "metadata": {
        "id": "18487cd6"
      },
      "outputs": [],
      "source": []
    },
    {
      "cell_type": "code",
      "execution_count": null,
      "id": "ae20ef21",
      "metadata": {
        "id": "ae20ef21"
      },
      "outputs": [],
      "source": []
    },
    {
      "cell_type": "code",
      "execution_count": null,
      "id": "cf7dd801",
      "metadata": {
        "id": "cf7dd801"
      },
      "outputs": [],
      "source": []
    }
  ],
  "metadata": {
    "kernelspec": {
      "display_name": "Python 3 (ipykernel)",
      "language": "python",
      "name": "python3"
    },
    "language_info": {
      "codemirror_mode": {
        "name": "ipython",
        "version": 3
      },
      "file_extension": ".py",
      "mimetype": "text/x-python",
      "name": "python",
      "nbconvert_exporter": "python",
      "pygments_lexer": "ipython3",
      "version": "3.10.12"
    },
    "varInspector": {
      "cols": {
        "lenName": 16,
        "lenType": 16,
        "lenVar": 40
      },
      "kernels_config": {
        "python": {
          "delete_cmd_postfix": "",
          "delete_cmd_prefix": "del ",
          "library": "var_list.py",
          "varRefreshCmd": "print(var_dic_list())"
        },
        "r": {
          "delete_cmd_postfix": ") ",
          "delete_cmd_prefix": "rm(",
          "library": "var_list.r",
          "varRefreshCmd": "cat(var_dic_list()) "
        }
      },
      "types_to_exclude": [
        "module",
        "function",
        "builtin_function_or_method",
        "instance",
        "_Feature"
      ],
      "window_display": false
    },
    "colab": {
      "provenance": []
    }
  },
  "nbformat": 4,
  "nbformat_minor": 5
}