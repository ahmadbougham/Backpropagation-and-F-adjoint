{
 "cells": [
  {
   "cell_type": "code",
   "execution_count": 25,
   "id": "e498f580",
   "metadata": {},
   "outputs": [],
   "source": [
    "import numpy as np\n",
    "import matplotlib.pyplot as plt\n",
    "\n",
    "# The activation function and it's derivative:\n",
    "def sigmoid(x):\n",
    "    return 1/(1+np.exp(-x))\n",
    "def d_sigmoid(x):\n",
    "    return sigmoid(x)*(1-sigmoid(x))\n",
    "# The loss function and it's derivative:\n",
    "def J(x):\n",
    "    return 1/2*x**2\n",
    "def d_J(x):\n",
    "    return x\n",
    "#The initialisation of the weight W:\n",
    "def init(dim):# dim denotes the architecture A[N0,N1,..., NL] of the DNN of length L:\n",
    "    L=len(dim)\n",
    "    W = {}    \n",
    "    for h in range(1, L):\n",
    "        W[f'W{h}'] = np.random.randn(dim[h], dim[h-1])\n",
    "    return W\n",
    "# The F-propagation of the data X through the weight W:\n",
    "def F_prop(X, W): \n",
    "    L=len(W)\n",
    "    Y_h = {}\n",
    "    X_h = {'X0':X.T}   \n",
    "    for h in range(1, L+1):        \n",
    "        Y_h[f'Y{h}'] = np.dot(W[f'W{h}'], X_h[f'X{h-1}'])\n",
    "        X_h[f'X{h}'] = sigmoid(Y_h[f'Y{h}'])        \n",
    "    return Y_h, X_h\n",
    "# The F-adjoint propagation of the data (X,y) through the weight W:\n",
    "def F_star_prop(X,y, W, dJ):\n",
    "    L=len(W)\n",
    "    Y_h , X_h = F_prop(X, W)   \n",
    "    X_star={f'X*{L}':dJ(X_h[f'X{L}']-y)}\n",
    "    Y_star={}\n",
    "    for h in reversed(range(1, L+1)):        \n",
    "        Y_star[f'Y*{h}'] =X_star[f'X*{h}'] *(d_sigmoid(Y_h[f'Y{h}']))\n",
    "        X_star[f'X*{h-1}']=W[f'W{h}'].T.dot(Y_star[f'Y*{h}'])\n",
    "    return X_star, Y_star\n",
    "# The gradient update, with respect to he weight W, of the data (X,y):\n",
    "def update(X,y,W, dJ, learning_rate = 0.4):\n",
    "    L=len(W)\n",
    "    for h in range(1, L+1):\n",
    "        Y_h , X_h = F_prop(X, W)\n",
    "        X_star, Y_star=F_star_prop(X,Y, W, dJ)        \n",
    "        W[f'W{h}'] += - learning_rate *np.dot(Y_star[f'Y*{h}'],X_h[f'X{h-1}'].T)\n",
    "    return W\n"
   ]
  },
  {
   "cell_type": "code",
   "execution_count": 26,
   "id": "29a83266",
   "metadata": {},
   "outputs": [
    {
     "data": {
      "text/plain": [
       "{'W1': array([[ 0.22644681,  3.07919409],\n",
       "        [-0.97788738,  0.73394386],\n",
       "        [ 0.06189212, -0.75462589]]),\n",
       " 'W2': array([[-0.56326747,  0.98615733, -0.37214427]])}"
      ]
     },
     "execution_count": 26,
     "metadata": {},
     "output_type": "execute_result"
    }
   ],
   "source": [
    "# Example of application:\n",
    "dim = [2,3,1]\n",
    "X=np.array([[0,1]])\n",
    "y=np.array([[1]])\n",
    "W=init(dim)\n",
    "W"
   ]
  },
  {
   "cell_type": "code",
   "execution_count": 27,
   "id": "37b27f7d",
   "metadata": {},
   "outputs": [
    {
     "data": {
      "text/plain": [
       "({'Y1': array([[ 3.07919409],\n",
       "         [ 0.73394386],\n",
       "         [-0.75462589]]),\n",
       "  'Y2': array([[0.00880151]])},\n",
       " {'X0': array([[0],\n",
       "         [1]]),\n",
       "  'X1': array([[0.95602632],\n",
       "         [0.67567013],\n",
       "         [0.31981418]]),\n",
       "  'X2': array([[0.50220036]])})"
      ]
     },
     "execution_count": 27,
     "metadata": {},
     "output_type": "execute_result"
    }
   ],
   "source": [
    "F_prop(X, W)"
   ]
  },
  {
   "cell_type": "code",
   "execution_count": 28,
   "id": "204e3ea2",
   "metadata": {},
   "outputs": [
    {
     "data": {
      "text/plain": [
       "({'X*2': array([[-0.49779964]]),\n",
       "  'X*1': array([[ 0.07009723],\n",
       "         [-0.12272481],\n",
       "         [ 0.04631242]]),\n",
       "  'X*0': array([[ 0.02759007],\n",
       "         [-0.01826705]])},\n",
       " {'Y*2': array([[-0.1244475]]),\n",
       "  'Y*1': array([[ 0.00294689],\n",
       "         [-0.02689392],\n",
       "         [ 0.01007448]])})"
      ]
     },
     "execution_count": 28,
     "metadata": {},
     "output_type": "execute_result"
    }
   ],
   "source": [
    "F_star_prop(X,y, W, d_J)"
   ]
  },
  {
   "cell_type": "code",
   "execution_count": 29,
   "id": "bee627d4",
   "metadata": {},
   "outputs": [],
   "source": [
    "def neural_network(X, Y, dim, lossftion, learning_rate, iter, print_cost=True):\n",
    "    W = init(dim)\n",
    "    L=len(W)\n",
    "    train_loss = [ ]\n",
    "    train_acc = [ ]\n",
    "    costs = []\n",
    "    for i in range(iter):\n",
    "        _ , X_h = F_prop(X, W)        \n",
    "        cost = lossftion(Y -X_h[f'X{L}'])\n",
    "        W = update(X,Y,W,d_J, learning_rate )\n",
    "        if print_cost and i % 10 == 0:\n",
    "            print(\"Loss after iteration %i: %f\" % (i, cost))\n",
    "            if i % 5 == 0:\n",
    "                costs.append(cost)\n",
    "\n",
    "    plt.plot(np.squeeze(costs))\n",
    "    plt.ylabel('Loss')\n",
    "    plt.xlabel('iterations (per 100s)')\n",
    "    plt.title(\"Learning rate = \" + str(learning_rate))\n",
    "    plt.show()\n",
    "    return print('W=', W)"
   ]
  },
  {
   "cell_type": "code",
   "execution_count": 30,
   "id": "94372d01",
   "metadata": {},
   "outputs": [
    {
     "name": "stdout",
     "output_type": "stream",
     "text": [
      "Loss after iteration 0: 0.098163\n",
      "Loss after iteration 10: 0.065066\n",
      "Loss after iteration 20: 0.044875\n",
      "Loss after iteration 30: 0.032357\n",
      "Loss after iteration 40: 0.024327\n",
      "Loss after iteration 50: 0.018966\n",
      "Loss after iteration 60: 0.015244\n",
      "Loss after iteration 70: 0.012566\n",
      "Loss after iteration 80: 0.010578\n",
      "Loss after iteration 90: 0.009061\n"
     ]
    },
    {
     "name": "stderr",
     "output_type": "stream",
     "text": [
      "/tmp/ipykernel_25221/3226614099.py:12: DeprecationWarning: Conversion of an array with ndim > 0 to a scalar is deprecated, and will error in future. Ensure you extract a single element from your array before performing this operation. (Deprecated NumPy 1.25.)\n",
      "  print(\"Loss after iteration %i: %f\" % (i, cost))\n"
     ]
    },
    {
     "data": {
      "image/png": "[encoded data removed]",
      "text/plain": [
       "<Figure size 432x288 with 1 Axes>"
      ]
     },
     "metadata": {
      "needs_background": "light"
     },
     "output_type": "display_data"
    },
    {
     "name": "stdout",
     "output_type": "stream",
     "text": [
      "W= {'W1': array([[-0.35178804, -1.34559872],\n",
      "       [ 1.77486148,  0.8047119 ],\n",
      "       [-1.54181106,  0.40910295]]), 'W2': array([[1.01952561, 1.19875019, 1.50171241]])}\n"
     ]
    }
   ],
   "source": [
    "dim = [2,3,1]\n",
    "X=np.array([[0,1]])\n",
    "Y=np.array([[1]])\n",
    "neural_network(X, Y,  dim, J, 0.5,  100, print_cost=True)"
   ]
  },
  {
   "cell_type": "code",
   "execution_count": null,
   "id": "9132ddc2",
   "metadata": {},
   "outputs": [],
   "source": []
  },
  {
   "cell_type": "code",
   "execution_count": null,
   "id": "bc4c57a5",
   "metadata": {},
   "outputs": [],
   "source": []
  },
  {
   "cell_type": "code",
   "execution_count": null,
   "id": "ead2f385",
   "metadata": {},
   "outputs": [],
   "source": []
  },
  {
   "cell_type": "code",
   "execution_count": null,
   "id": "b867a1f9",
   "metadata": {},
   "outputs": [],
   "source": []
  },
  {
   "cell_type": "code",
   "execution_count": null,
   "id": "6bdac6dd",
   "metadata": {},
   "outputs": [],
   "source": []
  },
  {
   "cell_type": "code",
   "execution_count": null,
   "id": "18487cd6",
   "metadata": {},
   "outputs": [],
   "source": []
  },
  {
   "cell_type": "code",
   "execution_count": null,
   "id": "ae20ef21",
   "metadata": {},
   "outputs": [],
   "source": []
  },
  {
   "cell_type": "code",
   "execution_count": null,
   "id": "cf7dd801",
   "metadata": {},
   "outputs": [],
   "source": []
  }
 ],
 "metadata": {
  "kernelspec": {
   "display_name": "Python 3 (ipykernel)",
   "language": "python",
   "name": "python3"
  },
  "language_info": {
   "codemirror_mode": {
    "name": "ipython",
    "version": 3
   },
   "file_extension": ".py",
   "mimetype": "text/x-python",
   "name": "python",
   "nbconvert_exporter": "python",
   "pygments_lexer": "ipython3",
   "version": "3.10.12"
  },
  "varInspector": {
   "cols": {
    "lenName": 16,
    "lenType": 16,
    "lenVar": 40
   },
   "kernels_config": {
    "python": {
     "delete_cmd_postfix": "",
     "delete_cmd_prefix": "del ",
     "library": "var_list.py",
     "varRefreshCmd": "print(var_dic_list())"
    },
    "r": {
     "delete_cmd_postfix": ") ",
     "delete_cmd_prefix": "rm(",
     "library": "var_list.r",
     "varRefreshCmd": "cat(var_dic_list()) "
    }
   },
   "types_to_exclude": [
    "module",
    "function",
    "builtin_function_or_method",
    "instance",
    "_Feature"
   ],
   "window_display": false
  }
 },
 "nbformat": 4,
 "nbformat_minor": 5
}
